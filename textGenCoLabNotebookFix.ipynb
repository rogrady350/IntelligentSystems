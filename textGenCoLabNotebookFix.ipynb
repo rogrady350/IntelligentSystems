{
  "nbformat": 4,
  "nbformat_minor": 0,
  "metadata": {
    "colab": {
      "private_outputs": true,
      "provenance": [],
      "gpuType": "T4",
      "include_colab_link": true
    },
    "kernelspec": {
      "name": "python3",
      "display_name": "Python 3"
    },
    "language_info": {
      "name": "python"
    },
    "accelerator": "GPU"
  },
  "cells": [
    {
      "cell_type": "markdown",
      "metadata": {
        "id": "view-in-github",
        "colab_type": "text"
      },
      "source": [
        "<a href=\"https://colab.research.google.com/github/rogrady350/GitHubDemo/blob/main/textGenCoLabNotebookFix.ipynb\" target=\"_parent\"><img src=\"https://colab.research.google.com/assets/colab-badge.svg\" alt=\"Open In Colab\"/></a>"
      ]
    },
    {
      "cell_type": "code",
      "execution_count": null,
      "metadata": {
        "id": "JewRbNz9f7um"
      },
      "outputs": [],
      "source": [
        "!pip install torch\n"
      ]
    },
    {
      "cell_type": "markdown",
      "source": [],
      "metadata": {
        "id": "PEw01TQQ9YCJ"
      }
    },
    {
      "cell_type": "code",
      "source": [
        "!pip install \"transformers>=4.24.0\""
      ],
      "metadata": {
        "id": "9YVuDLFggL7G"
      },
      "execution_count": null,
      "outputs": []
    },
    {
      "cell_type": "code",
      "source": [
        "import torch"
      ],
      "metadata": {
        "id": "CCft_9mLgpI7"
      },
      "execution_count": null,
      "outputs": []
    },
    {
      "cell_type": "code",
      "source": [
        "from transformers import AutoTokenizer, AutoModelForCausalLM"
      ],
      "metadata": {
        "id": "mito1leRgudL"
      },
      "execution_count": null,
      "outputs": []
    },
    {
      "cell_type": "code",
      "source": [
        "device = \"cuda\" if torch.cuda.is_available() else \"cpu\""
      ],
      "metadata": {
        "id": "3fQqG9Ibg4g2"
      },
      "execution_count": null,
      "outputs": []
    },
    {
      "cell_type": "code",
      "source": [
        "#model_name = \"gpt2-xl\"\n",
        "model_name = \"gpt2\""
      ],
      "metadata": {
        "id": "05QCxlvahD-Q"
      },
      "execution_count": null,
      "outputs": []
    },
    {
      "cell_type": "code",
      "source": [
        "tokenizer = AutoTokenizer.from_pretrained(model_name)\n",
        "model = AutoModelForCausalLM.from_pretrained(model_name).to(device)"
      ],
      "metadata": {
        "id": "lB4CmxNYhNI5"
      },
      "execution_count": null,
      "outputs": []
    },
    {
      "cell_type": "code",
      "source": [
        "device"
      ],
      "metadata": {
        "id": "Y8ZAGHWbia6T"
      },
      "execution_count": null,
      "outputs": []
    },
    {
      "cell_type": "code",
      "source": [
        "# hide_output\n",
        "import pandas as pd\n",
        "\n",
        "input_txt = \"Transformers are the\"\n",
        "input_ids = tokenizer(input_txt, return_tensors=\"pt\")[\"input_ids\"].to(device)\n",
        "iterations = []\n",
        "n_steps = 8\n",
        "choices_per_step = 5\n",
        "\n",
        "with torch.no_grad():\n",
        "    for _ in range(n_steps):\n",
        "        iteration = dict()\n",
        "        iteration[\"Input\"] = tokenizer.decode(input_ids[0])\n",
        "        output = model(input_ids=input_ids)\n",
        "        # Select logits of the first batch and the last token and apply softmax\n",
        "        next_token_logits = output.logits[0, -1, :]\n",
        "        next_token_probs = torch.softmax(next_token_logits, dim=-1)\n",
        "        sorted_ids = torch.argsort(next_token_probs, dim=-1, descending=True)\n",
        "        # Store tokens with highest probabilities\n",
        "        for choice_idx in range(choices_per_step):\n",
        "            token_id = sorted_ids[choice_idx]\n",
        "            token_prob = next_token_probs[token_id].cpu().numpy()\n",
        "            token_choice = (\n",
        "                f\"{tokenizer.decode(token_id)} ({100 * token_prob:.2f}%)\"\n",
        "            )\n",
        "            iteration[f\"Choice {choice_idx+1}\"] = token_choice\n",
        "        # Append predicted next token to input\n",
        "        input_ids = torch.cat([input_ids, sorted_ids[None, 0, None]], dim=-1)\n",
        "        iterations.append(iteration)\n",
        "\n",
        "pd.DataFrame(iterations)"
      ],
      "metadata": {
        "id": "00GIkgBNik6q"
      },
      "execution_count": null,
      "outputs": []
    },
    {
      "cell_type": "code",
      "source": [
        "input_ids = tokenizer(input_txt, return_tensors=\"pt\")[\"input_ids\"].to(device)\n",
        "\n"
      ],
      "metadata": {
        "id": "D4vAbBNejArI"
      },
      "execution_count": null,
      "outputs": []
    },
    {
      "cell_type": "code",
      "source": [
        "#attention_mask = input_ids[\"attention_mask\"]"
      ],
      "metadata": {
        "id": "zJPCzagQzqpd"
      },
      "execution_count": null,
      "outputs": []
    },
    {
      "cell_type": "code",
      "source": [
        "output = model.generate(input_ids, max_new_tokens=n_steps, do_sample=False)"
      ],
      "metadata": {
        "id": "Y2KbinlRjVyM"
      },
      "execution_count": null,
      "outputs": []
    },
    {
      "cell_type": "code",
      "source": [
        "print(tokenizer.decode(output[0]))"
      ],
      "metadata": {
        "id": "R4po6bE-jpYT"
      },
      "execution_count": null,
      "outputs": []
    },
    {
      "cell_type": "code",
      "source": [
        "max_length = 128\n",
        "input_txt = \"\"\"During a routine satellite scan of the Amazon rainforest, \\\n",
        "researchers at the International Space Station spotted a series of massive, \\\n",
        "glowing symbols in a remote clearing. The scientists, unsure of their origin, \\\n",
        "decided to investigate further. To their astonishment, they found that the \\\n",
        "symbols were ancient carvings that emitted a soft, pulsating light, seemingly \\\n",
        "responding to their presence.\\n\\n\n",
        "\"\"\"\n",
        "\n",
        "input_ids = tokenizer(input_txt, return_tensors=\"pt\")[\"input_ids\"].to(device)\n",
        "output_greedy = model.generate(input_ids, max_length=max_length,\n",
        "                               do_sample=False)\n",
        "print(tokenizer.decode(output_greedy[0]))\n"
      ],
      "metadata": {
        "id": "53fNTJ1njv2x"
      },
      "execution_count": null,
      "outputs": []
    },
    {
      "cell_type": "markdown",
      "source": [
        "Beam Search"
      ],
      "metadata": {
        "id": "KLc5IW8deQO8"
      }
    },
    {
      "cell_type": "code",
      "source": [
        "import numpy as np"
      ],
      "metadata": {
        "id": "zl8i8ISsKNDE"
      },
      "execution_count": null,
      "outputs": []
    },
    {
      "cell_type": "code",
      "source": [
        "import torch.nn.functional as F"
      ],
      "metadata": {
        "id": "3gjpGbdsKcEC"
      },
      "execution_count": null,
      "outputs": []
    },
    {
      "cell_type": "code",
      "source": [
        "def log_probs_from_logits(logits, labels):\n",
        "    logp = F.log_softmax(logits, dim=-1)\n",
        "    logp_label = torch.gather(logp, 2, labels.unsqueeze(2)).squeeze(-1)\n",
        "    return logp_label\n"
      ],
      "metadata": {
        "id": "xIRAGYULvvp6"
      },
      "execution_count": null,
      "outputs": []
    },
    {
      "cell_type": "code",
      "source": [
        "def sequence_logprob(model, labels, input_len=0):\n",
        "    with torch.no_grad():\n",
        "        output = model(labels)\n",
        "        log_probs = log_probs_from_logits(\n",
        "            output.logits[:, :-1, :], labels[:, 1:])\n",
        "        seq_log_prob = torch.sum(log_probs[:, input_len:])\n",
        "    return seq_log_prob.cpu().numpy()"
      ],
      "metadata": {
        "id": "la3Q12cJv3Gt"
      },
      "execution_count": null,
      "outputs": []
    },
    {
      "cell_type": "code",
      "source": [
        "logp = sequence_logprob(model, output_greedy, input_len=len(input_ids[0]))\n",
        "print(tokenizer.decode(output_greedy[0]))\n",
        "print(f\"\\nlog-prob: {logp:.2f}\")\n"
      ],
      "metadata": {
        "id": "3grGUMSmv_-U"
      },
      "execution_count": null,
      "outputs": []
    },
    {
      "cell_type": "code",
      "source": [
        "output_beam = model.generate(input_ids, max_length=max_length, num_beams=5,\n",
        "                             do_sample=False)\n",
        "logp = sequence_logprob(model, output_beam, input_len=len(input_ids[0]))\n",
        "print(tokenizer.decode(output_beam[0]))\n",
        "print(f\"\\nlog-prob: {logp:.2f}\")\n"
      ],
      "metadata": {
        "id": "Rz_yVRCkwUw9"
      },
      "execution_count": null,
      "outputs": []
    },
    {
      "cell_type": "markdown",
      "source": [
        "Sampling Methods"
      ],
      "metadata": {
        "id": "0OhsG2lDyZOM"
      }
    },
    {
      "cell_type": "code",
      "source": [
        "\n",
        "\n",
        "#hide_input\n",
        "\n",
        "#id temperature\n",
        "#alt Token probabilities as a function of temperature\n",
        "#caption Distribution of randomly generated token probabilities for three selected temperatures\n",
        "import matplotlib.pyplot as plt\n",
        "import numpy as np\n",
        "\n",
        "def softmax(logits, T=1):\n",
        "    e_x = np.exp(logits / T)\n",
        "    return e_x / e_x.sum()\n",
        "\n",
        "logits = np.exp(np.random.random(1000))\n",
        "sorted_logits = np.sort(logits)[::-1]\n",
        "x = np.arange(1000)\n",
        "\n",
        "for T in [0.5, 1.0, 2.0]:\n",
        "    plt.step(x, softmax(sorted_logits, T), label=f\"T={T}\")\n",
        "plt.legend(loc=\"best\")\n",
        "plt.xlabel(\"Sorted token probabilities\")\n",
        "plt.ylabel(\"Probability\")\n",
        "plt.show()\n"
      ],
      "metadata": {
        "id": "JuVfLdYyyX2m"
      },
      "execution_count": null,
      "outputs": []
    },
    {
      "cell_type": "code",
      "source": [
        "# hide\n",
        "torch.manual_seed(42);"
      ],
      "metadata": {
        "id": "GBXCxxZm1x8V"
      },
      "execution_count": null,
      "outputs": []
    },
    {
      "cell_type": "markdown",
      "source": [
        "Try different temperatures 2.9, .5"
      ],
      "metadata": {
        "id": "ZMz1cZscfqA5"
      }
    },
    {
      "cell_type": "code",
      "source": [
        "#low temp, conservative model, less creative, favor more likely tokens. more prodictable and coherent results.\n",
        "output_temp = model.generate(input_ids, max_length=max_length, do_sample=True,\n",
        "                             temperature=.5, top_k=0)\n",
        "print(tokenizer.decode(output_temp[0]))\n"
      ],
      "metadata": {
        "id": "YyJJvDi114n8"
      },
      "execution_count": null,
      "outputs": []
    },
    {
      "cell_type": "code",
      "source": [
        "#very high temp, very high creativity, less predictable\n",
        "output_temp = model.generate(input_ids, max_length=max_length, do_sample=True,\n",
        "                             temperature=2.9, top_k=0)\n",
        "print(tokenizer.decode(output_temp[0]))\n",
        "\n",
        "# results rather incoherent"
      ],
      "metadata": {
        "id": "TcBvcc-WCfjs"
      },
      "execution_count": null,
      "outputs": []
    },
    {
      "cell_type": "code",
      "source": [
        "#high temp, high creativity, less predictable\n",
        "output_temp = model.generate(input_ids, max_length=max_length, do_sample=True,\n",
        "                             temperature=1.5, top_k=0)\n",
        "print(tokenizer.decode(output_temp[0]))\n"
      ],
      "metadata": {
        "id": "U3VuzCrDCfwE"
      },
      "execution_count": null,
      "outputs": []
    },
    {
      "cell_type": "code",
      "source": [
        "#balanced temp. balanced but slightly less creative\n",
        "output_temp = model.generate(input_ids, max_length=max_length, do_sample=True,\n",
        "                             temperature=.9, top_k=0)\n",
        "print(tokenizer.decode(output_temp[0]))\n",
        "\n",
        "#more coherent results"
      ],
      "metadata": {
        "id": "gEoXwlWqCgJ8"
      },
      "execution_count": null,
      "outputs": []
    },
    {
      "cell_type": "markdown",
      "source": [
        "Contrastive Search\n"
      ],
      "metadata": {
        "id": "CK4ulmtH9ati"
      }
    },
    {
      "cell_type": "markdown",
      "source": [
        "other models, settings"
      ],
      "metadata": {
        "id": "ucyhOkfkjQtm"
      }
    },
    {
      "cell_type": "code",
      "source": [
        "from transformers import GPT2Tokenizer, GPT2LMHeadModel\n",
        "\n",
        "model_name = 'gpt2-large'\n",
        "tokenizer = GPT2Tokenizer.from_pretrained(model_name)\n",
        "model = GPT2LMHeadModel.from_pretrained(model_name, pad_token_id=tokenizer.eos_token_id)\n",
        "model.eval()\n",
        "\n",
        "# prepare the prefix\n",
        "prefix_text = input_txt\n",
        "input_ids = tokenizer(prefix_text, return_tensors='pt').input_ids\n",
        "\n",
        "# generate the result with contrastive search\n",
        "#increase penalty_alpha: increase penalty for repetative or over confident predictions. more unique phrasing but may lead to unexpected langue if too high\n",
        "#increase top_k: expands pool of tokens to top 10. Higher value sincrease diversity. Lower values make response more deterministic\n",
        "#decrease max length: shorter more consise responses\n",
        "output = model.generate(input_ids, penalty_alpha=0.8, top_k=10, max_length=256)\n",
        "print(\"Output:\\n\" + 100 * '-')\n",
        "print(tokenizer.decode(output[0], skip_special_tokens=True))\n",
        "print(\"\" + 100 * '-')\n",
        "\n"
      ],
      "metadata": {
        "id": "picaK5mBC4bM"
      },
      "execution_count": null,
      "outputs": []
    },
    {
      "cell_type": "code",
      "source": [
        "from transformers import GPT2Tokenizer, GPT2LMHeadModel\n",
        "\n",
        "#large model. currently used\n",
        "model_name = 'gpt2-large'\n",
        "tokenizer = GPT2Tokenizer.from_pretrained(model_name)\n",
        "model = GPT2LMHeadModel.from_pretrained(model_name, pad_token_id=tokenizer.eos_token_id)\n",
        "model.eval()\n",
        "\n",
        "# prepare the prefix\n",
        "prefix_text = input_txt\n",
        "input_ids = tokenizer(prefix_text, return_tensors='pt').input_ids\n",
        "\n",
        "# generate the result with contrastive search\n",
        "output = model.generate(input_ids, penalty_alpha=0.6, top_k=4, max_length=512)\n",
        "print(\"Output:\\n\" + 100 * '-')\n",
        "print(tokenizer.decode(output[0], skip_special_tokens=True))\n",
        "print(\"\" + 100 * '-')\n",
        "\n"
      ],
      "metadata": {
        "id": "Xy3EOJCf9gXD"
      },
      "execution_count": null,
      "outputs": []
    },
    {
      "cell_type": "code",
      "source": [
        "from transformers import GPT2Tokenizer, GPT2LMHeadModel\n",
        "\n",
        "#smallest model\n",
        "model_name = 'gpt2'\n",
        "tokenizer = GPT2Tokenizer.from_pretrained(model_name)\n",
        "model = GPT2LMHeadModel.from_pretrained(model_name, pad_token_id=tokenizer.eos_token_id)\n",
        "model.eval()\n",
        "\n",
        "# prepare the prefix\n",
        "prefix_text = input_txt\n",
        "input_ids = tokenizer(prefix_text, return_tensors='pt').input_ids\n",
        "\n",
        "# generate the result with contrastive search\n",
        "output = model.generate(input_ids, penalty_alpha=0.6, top_k=4, max_length=512)\n",
        "print(\"Output:\\n\" + 100 * '-')\n",
        "print(tokenizer.decode(output[0], skip_special_tokens=True))\n",
        "print(\"\" + 100 * '-')\n",
        "\n"
      ],
      "metadata": {
        "id": "LqlfaqYwC4I1"
      },
      "execution_count": null,
      "outputs": []
    }
  ]
}