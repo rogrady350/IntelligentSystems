{
  "nbformat": 4,
  "nbformat_minor": 0,
  "metadata": {
    "colab": {
      "private_outputs": true,
      "provenance": [],
      "include_colab_link": true
    },
    "kernelspec": {
      "name": "python3",
      "display_name": "Python 3"
    },
    "language_info": {
      "name": "python"
    }
  },
  "cells": [
    {
      "cell_type": "markdown",
      "metadata": {
        "id": "view-in-github",
        "colab_type": "text"
      },
      "source": [
        "<a href=\"https://colab.research.google.com/github/rogrady350/GitHubDemo/blob/main/SearchNotebook.ipynb\" target=\"_parent\"><img src=\"https://colab.research.google.com/assets/colab-badge.svg\" alt=\"Open In Colab\"/></a>"
      ]
    },
    {
      "cell_type": "markdown",
      "source": [
        "**Search**\n",
        "\n",
        "The way to use this code is to subclass Problem to create a class of problems,\n",
        "then create problem instances and solve them with calls to the various search\n",
        "functions."
      ],
      "metadata": {
        "id": "eEA_B6CKVDaW"
      }
    },
    {
      "cell_type": "markdown",
      "source": [
        "Simple Data Structures: infinity, Dict, Struct"
      ],
      "metadata": {
        "id": "6NnyfZMuTXGG"
      }
    },
    {
      "cell_type": "code",
      "execution_count": null,
      "metadata": {
        "id": "H00mzJooTIWn"
      },
      "outputs": [],
      "source": [
        "import math, random, sys, time, bisect, string\n",
        "from copy import deepcopy"
      ]
    },
    {
      "cell_type": "markdown",
      "source": [
        "Simple Data Structures: infinity, Dict"
      ],
      "metadata": {
        "id": "vuTSUMQNVeIe"
      }
    },
    {
      "cell_type": "code",
      "source": [
        "infinity = 1.0e400\n",
        "\n",
        "def Dict(**entries):\n",
        "    \"\"\"Create a dict out of the argument=value arguments.\n",
        "    >>> Dict(a=1, b=2, c=3)\n",
        "    {'a': 1, 'c': 3, 'b': 2}\n",
        "    \"\"\"\n",
        "    return entries\n",
        "\n",
        "def distance(ax_ay, bx_by):\n",
        "    \"The distance between two (x, y) points.\"\n",
        "    ax, ay = ax_ay\n",
        "    bx, by = bx_by\n",
        "    return math.hypot((ax - bx), (ay - by))\n"
      ],
      "metadata": {
        "id": "zLL2dL-LYyip"
      },
      "execution_count": null,
      "outputs": []
    },
    {
      "cell_type": "markdown",
      "source": [
        "Utility Functions"
      ],
      "metadata": {
        "id": "VrFPhE3nY67R"
      }
    },
    {
      "cell_type": "code",
      "source": [
        "def update(x, **entries):\n",
        "    \"\"\"Update a dict; or an object with slots; according to entries.\n",
        "    >>> update({'a': 1}, a=10, b=20)\n",
        "    {'a': 10, 'b': 20}\n",
        "    >>> update(Struct(a=1), a=10, b=20)\n",
        "    Struct(a=10, b=20)\n",
        "    \"\"\"\n",
        "    if isinstance(x, dict):\n",
        "        x.update(entries)\n",
        "    else:\n",
        "        x.__dict__.update(entries)\n",
        "    return x\n"
      ],
      "metadata": {
        "id": "Ao5gpcQ5Y95C"
      },
      "execution_count": null,
      "outputs": []
    },
    {
      "cell_type": "markdown",
      "source": [
        "Queues: Stack, FIFOQueue, PriorityQueue"
      ],
      "metadata": {
        "id": "Hp5yw83lacke"
      }
    },
    {
      "cell_type": "code",
      "source": [
        "class Queue:\n",
        "    \"\"\"Queue is an abstract class/interface. There are three types:\n",
        "        Stack(): A Last In First Out Queue.\n",
        "        FIFOQueue(): A First In First Out Queue.\n",
        "        PriorityQueue(lt): Queue where items are sorted by lt, (default <).\n",
        "    Each type supports the following methods and functions:\n",
        "        q.append(item)  -- add an item to the queue\n",
        "        q.extend(items) -- equivalent to: for item in items: q.append(item)\n",
        "        q.pop()         -- return the top item from the queue\n",
        "        len(q)          -- number of items in q (also q.__len())\n",
        "    Note that isinstance(Stack(), Queue) is false, because we implement stacks\n",
        "    as lists.  If Python ever gets interfaces, Queue will be an interface.\"\"\"\n",
        "\n",
        "    def __init__(self):\n",
        "        abstract\n",
        "\n",
        "    def extend(self, items):\n",
        "        for item in items: self.append(item)\n",
        "\n",
        "def Stack():\n",
        "    \"\"\"Return an empty list, suitable as a Last-In-First-Out Queue.\"\"\"\n",
        "    return []\n",
        "\n",
        "class FIFOQueue(Queue):\n",
        "    \"\"\"A First-In-First-Out Queue.\"\"\"\n",
        "    def __init__(self):\n",
        "        self.A = []; self.start = 0\n",
        "    def append(self, item):\n",
        "        self.A.append(item)\n",
        "    def __len__(self):\n",
        "        return len(self.A) - self.start\n",
        "    def extend(self, items):\n",
        "        self.A.extend(items)\n",
        "    def pop(self):\n",
        "        e = self.A[self.start]\n",
        "        del self.A[0]\n",
        "        return e\n",
        "\n",
        "#   def pop(self):\n",
        "#      e = self.A[self.start]\n",
        "#     self.start += 1\n",
        "#        if self.start > 5 and self.start > len(self.A)/2:\n",
        "#           self.A = self.A[self.start:]\n",
        "#           self.start = 0\n",
        "#     return e\n",
        "\n",
        "class PriorityQueue(Queue):\n",
        "    \"\"\"A queue in which the minimum (or maximum) element (as determined by f and\n",
        "    order) is returned first. If order is min, the item with minimum f(x) is\n",
        "    returned first; if order is max, then it is the item with maximum f(x).\"\"\"\n",
        "    def __init__(self, order=min, f=lambda x: x):\n",
        "        update(self, A=[], order=order, f=f)\n",
        "    def append(self, item):\n",
        "        bisect.insort(self.A, (self.f(item), item))\n",
        "    def __len__(self):\n",
        "        return len(self.A)\n",
        "    def pop(self):\n",
        "        if self.order == min:\n",
        "            return self.A.pop(0)[1]\n",
        "        else:\n",
        "            return self.A.pop()[1]\n"
      ],
      "metadata": {
        "id": "E9_q6wTjaBKr"
      },
      "execution_count": null,
      "outputs": []
    },
    {
      "cell_type": "markdown",
      "source": [
        "Class Problem"
      ],
      "metadata": {
        "id": "qDQcRcWaa27z"
      }
    },
    {
      "cell_type": "code",
      "source": [
        "class Problem:\n",
        "    \"\"\"The abstract class for a formal problem.  You should subclass this and\n",
        "    implement the method successor, and possibly __init__, goal_test, and\n",
        "    path_cost. Then you will create instances of your subclass and solve them\n",
        "    with the various search functions.\"\"\"\n",
        "\n",
        "    def __init__(self, initial, goal=None):\n",
        "        \"\"\"The constructor specifies the initial state, and possibly a goal\n",
        "        state, if there is a unique goal.  Your subclass's constructor can add\n",
        "        other arguments.\"\"\"\n",
        "        self.initial = initial; self.goal = goal\n",
        "\n",
        "    def successor(self, state):\n",
        "        \"\"\"Given a state, return a sequence of (action, state) pairs reachable\n",
        "        from this state. If there are many successors, consider an iterator\n",
        "        that yields the successors one at a time, rather than building them\n",
        "        all at once. Iterators will work fine within the framework.\"\"\"\n",
        "        abstract\n",
        "\n",
        "    def goal_test(self, state):\n",
        "        \"\"\"Return True if the state is a goal. The default method compares the\n",
        "        state to self.goal, as specified in the constructor. Implement this\n",
        "        method if checking against a single self.goal is not enough.\"\"\"\n",
        "        return state == self.goal\n",
        "\n",
        "    def path_cost(self, c, state1, action, state2):\n",
        "        \"\"\"Return the cost of a solution path that arrives at state2 from\n",
        "        state1 via action, assuming cost c to get up to state1. If the problem\n",
        "        is such that the path doesn't matter, this function will only look at\n",
        "        state2.  If the path does matter, it will consider c and maybe state1\n",
        "        and action. The default method costs 1 for every step in the path.\"\"\"\n",
        "        return c + 1\n",
        "\n",
        "    def value(self):\n",
        "        \"\"\"For optimization problems, each state has a value.  Hill-climbing\n",
        "        and related algorithms try to maximize this value.\"\"\"\n",
        "        abstract"
      ],
      "metadata": {
        "id": "bM4KTXhja6vV"
      },
      "execution_count": null,
      "outputs": []
    },
    {
      "cell_type": "markdown",
      "source": [
        "Class Node"
      ],
      "metadata": {
        "id": "lrPg0qhrbFfI"
      }
    },
    {
      "cell_type": "code",
      "source": [
        "class Node:\n",
        "    \"\"\"A node in a search tree. Contains a pointer to the parent (the node\n",
        "    that this is a successor of) and to the actual state for this node. Note\n",
        "    that if a state is arrived at by two paths, then there are two nodes with\n",
        "    the same state.  Also includes the action that got us to this state, and\n",
        "    the total path_cost (also known as g) to reach the node.  Other functions\n",
        "    may add an f and h value; see best_first_graph_search and astar_search for\n",
        "    an explanation of how the f and h values are handled. You will not need to\n",
        "    subclass this class.\"\"\"\n",
        "    allNodes = []\n",
        "\n",
        "    #function to clear all generated from previous searches\n",
        "    @classmethod\n",
        "    def clear_all_nodes(cls):\n",
        "        cls.allNodes.clear()\n",
        "\n",
        "    def __init__(self, state, parent=None, action=None, path_cost=0):\n",
        "        \"Create a search tree Node, derived from a parent by an action.\"\n",
        "        update(self, state=state, parent=parent, action=action,\n",
        "               path_cost=path_cost, depth=0)\n",
        "        self.__class__.allNodes.append(self)\n",
        "        if parent:\n",
        "            self.depth = parent.depth + 1\n",
        "\n",
        "    def __repr__(self):\n",
        "        return \"<Node %s>\" % (self.state,)\n",
        "\n",
        "    def path(self):\n",
        "        \"Create a list of nodes from the root to this node.\"\n",
        "        x, result = self, [self]\n",
        "        while x.parent:\n",
        "            result.append(x.parent)\n",
        "            x = x.parent\n",
        "        return result\n",
        "\n",
        "    def expand(self, problem):\n",
        "        \"Return a list of nodes reachable from this node. \"\n",
        "        return [Node(next, self, act,\n",
        "                     problem.path_cost(self.path_cost, self.state, act, next))\n",
        "                for (act, next) in problem.successor(self.state)]"
      ],
      "metadata": {
        "id": "wvgvxe2hbOK3"
      },
      "execution_count": null,
      "outputs": []
    },
    {
      "cell_type": "markdown",
      "source": [
        "Uninformed Search Algorithms"
      ],
      "metadata": {
        "id": "t_yh8o9bbgIT"
      }
    },
    {
      "cell_type": "code",
      "source": [
        "def tree_search(problem, fringe):\n",
        "    \"\"\"Search through the successors of a problem to find a goal.\n",
        "    The argument fringe should be an empty queue.\n",
        "    Don't worry about repeated paths to a state.\"\"\"\n",
        "    fringe.append(Node(problem.initial))\n",
        "    while fringe:\n",
        "        node = fringe.pop()\n",
        "        if problem.goal_test(node.state):\n",
        "            return node\n",
        "        fringe.extend(node.expand(problem))\n",
        "    return None\n",
        "\n",
        "def breadth_first_tree_search(problem):\n",
        "    \"Search the shallowest nodes in the search tree first. \"\n",
        "    return tree_search(problem, FIFOQueue())\n",
        "\n",
        "def depth_first_tree_search(problem):\n",
        "    \"Search the deepest nodes in the search tree first. \"\n",
        "    return tree_search(problem, Stack())\n",
        "\n",
        "def graph_search(problem, fringe):\n",
        "    \"\"\"Search through the successors of a problem to find a goal.\n",
        "    The argument fringe should be an empty queue.\n",
        "    If two paths reach a state, only use the best one.\"\"\"\n",
        "    closed = {}\n",
        "    fringe.append(Node(problem.initial))\n",
        "    while fringe:\n",
        "        node = fringe.pop()\n",
        "        if problem.goal_test(node.state):\n",
        "            return node\n",
        "        if node.state not in closed:\n",
        "            closed[node.state] = True\n",
        "            fringe.extend(node.expand(problem))\n",
        "    return None\n",
        "\n",
        "def breadth_first_graph_search(problem):\n",
        "    \"Search the shallowest nodes in the search tree first. [p 74]\"\n",
        "    return graph_search(problem, FIFOQueue())\n",
        "\n",
        "def depth_first_graph_search(problem):\n",
        "    \"Search the deepest nodes in the search tree first. [p 74]\"\n",
        "    return graph_search(problem, Stack())\n",
        "\n",
        "def depth_limited_search(problem, limit=50):\n",
        "    \"\"\n",
        "    def recursive_dls(node, problem, limit):\n",
        "        cutoff_occurred = False\n",
        "        if problem.goal_test(node.state):\n",
        "            return node\n",
        "        elif node.depth == limit:\n",
        "            return 'cutoff'\n",
        "        else:\n",
        "            for successor in node.expand(problem):\n",
        "                result = recursive_dls(successor, problem, limit)\n",
        "                if result == 'cutoff':\n",
        "                    cutoff_occurred = True\n",
        "                elif result != None:\n",
        "                    return result\n",
        "        if cutoff_occurred:\n",
        "            return 'cutoff'\n",
        "        else:\n",
        "            return None\n",
        "    # Body of depth_limited_search:\n",
        "    return recursive_dls(Node(problem.initial), problem, limit)\n",
        "\n",
        "def iterative_deepening_search(problem):\n",
        "    \"\"\n",
        "    for depth in range(sys.maxsize):\n",
        "        result = depth_limited_search(problem, depth)\n",
        "        if result != 'cutoff':\n",
        "            return result\n"
      ],
      "metadata": {
        "id": "jQFFzMlMbkDT"
      },
      "execution_count": null,
      "outputs": []
    },
    {
      "cell_type": "markdown",
      "source": [
        "Informed (Heuristic) Search"
      ],
      "metadata": {
        "id": "K8Ye5j_Ebt1G"
      }
    },
    {
      "cell_type": "code",
      "source": [
        "def best_first_graph_search(problem, f=None):\n",
        "    \"\"\"Search the nodes with the lowest f scores first.\n",
        "    You specify the function f(node) that you want to minimize; for example,\n",
        "    if f is a heuristic estimate to the goal, then we have greedy best\n",
        "    first search; if f is node.depth then we have depth-first search.\"\"\"\n",
        "    f = f or problem.h  # If no function is provided, use problem.h\n",
        "\n",
        "    def f(n):\n",
        "        return problem.h(n)  # Call the heuristic function on the node\n",
        "\n",
        "    return graph_search(problem, PriorityQueue(min, f))\n",
        "\n",
        "greedy_best_first_graph_search = best_first_graph_search\n",
        "    # Greedy best-first search is accomplished by specifying f(n) = h(n).\n",
        "\n",
        "def astar_search(problem, h=None):\n",
        "    \"\"\"A* search is best-first graph search with f(n) = g(n)+h(n).\n",
        "    You need to specify the h function when you call astar_search.\"\"\"\n",
        "    h = h or problem.h\n",
        "    def f(n):\n",
        "        return n.path_cost + h(n)\n",
        "    return best_first_graph_search(problem, f)"
      ],
      "metadata": {
        "id": "Cj3e_DDbb4-O"
      },
      "execution_count": null,
      "outputs": []
    },
    {
      "cell_type": "markdown",
      "source": [
        "Graphs and Graph Problems"
      ],
      "metadata": {
        "id": "CRPKLryLcAxg"
      }
    },
    {
      "cell_type": "markdown",
      "source": [],
      "metadata": {
        "id": "gwfmKou9cMva"
      }
    },
    {
      "cell_type": "code",
      "source": [
        "class Graph:\n",
        "    \"\"\"A graph connects nodes (verticies) by edges (links).  Each edge can also\n",
        "    have a length associated with it.  The constructor call is something like:\n",
        "        g = Graph({'A': {'B': 1, 'C': 2})\n",
        "    this makes a graph with 3 nodes, A, B, and C, with an edge of length 1 from\n",
        "    A to B,  and an edge of length 2 from A to C.  You can also do:\n",
        "        g = Graph({'A': {'B': 1, 'C': 2}, directed=False)\n",
        "    This makes an undirected graph, so inverse links are also added. The graph\n",
        "    stays undirected; if you add more links with g.connect('B', 'C', 3), then\n",
        "    inverse link is also added.  You can use g.nodes() to get a list of nodes,\n",
        "    g.get('A') to get a dict of links out of A, and g.get('A', 'B') to get the\n",
        "    length of the link from A to B.  'Lengths' can actually be any object at\n",
        "    all, and nodes can be any hashable object.\"\"\"\n",
        "\n",
        "    def __init__(self, dict=None, directed=True):\n",
        "        self.dict = dict or {}\n",
        "        self.directed = directed\n",
        "        if not directed: self.make_undirected()\n",
        "\n",
        "    def make_undirected(self):\n",
        "        \"Make a digraph into an undirected graph by adding symmetric edges.\"\n",
        "        \"tempDict used to avoid Python3 error of iterating/changing\"\n",
        "        tempDict = deepcopy(self.dict)\n",
        "        for a in tempDict.keys():\n",
        "            for (b, distance) in tempDict[a].items():\n",
        "                self.connect1(b, a, distance)\n",
        "\n",
        "    def connect(self, A, B, distance=1):\n",
        "        \"\"\"Add a link from A and B of given distance, and also add the inverse\n",
        "        link if the graph is undirected.\"\"\"\n",
        "        self.connect1(A, B, distance)\n",
        "        if not self.directed: self.connect1(B, A, distance)\n",
        "\n",
        "    def connect1(self, A, B, distance):\n",
        "        \"Add a link from A to B of given distance, in one direction only.\"\n",
        "        self.dict.setdefault(A,{})[B] = distance\n",
        "\n",
        "    def get(self, a, b=None):\n",
        "        \"\"\"Return a link distance or a dict of {node: distance} entries.\n",
        "        .get(a,b) returns the distance or None;\n",
        "        .get(a) returns a dict of {node: distance} entries, possibly {}.\"\"\"\n",
        "        links = self.dict.setdefault(a, {})\n",
        "        if b is None: return links\n",
        "        else: return links.get(b)\n",
        "\n",
        "    def nodes(self):\n",
        "        \"Return a list of nodes in the graph.\"\n",
        "        return self.dict.keys()\n",
        "\n",
        "def UndirectedGraph(dict=None):\n",
        "    \"Build a Graph where every edge (including future ones) goes both ways.\"\n",
        "    return Graph(dict=dict, directed=False)"
      ],
      "metadata": {
        "id": "gGRKijCZcNT5"
      },
      "execution_count": null,
      "outputs": []
    },
    {
      "cell_type": "markdown",
      "source": [
        "Romania Map Example"
      ],
      "metadata": {
        "id": "zn2q1wVqcVlh"
      }
    },
    {
      "cell_type": "code",
      "source": [
        "romania = UndirectedGraph(Dict(\n",
        "    A=Dict(Z=75, S=140, T=118),\n",
        "    B=Dict(U=85, P=101, G=90, F=211),\n",
        "    C=Dict(D=120, R=146, P=138),\n",
        "    D=Dict(M=75),\n",
        "    E=Dict(H=86),\n",
        "    F=Dict(S=99),\n",
        "    H=Dict(U=98),\n",
        "    I=Dict(V=92, N=87),\n",
        "    L=Dict(T=111, M=70),\n",
        "    O=Dict(Z=71, S=151),\n",
        "    P=Dict(R=97),\n",
        "    R=Dict(S=80),\n",
        "    U=Dict(V=142)))\n",
        "romania.locations = Dict(\n",
        "    A=( 91, 492),    B=(400, 327),    C=(253, 288),   D=(165, 299),\n",
        "    E=(562, 293),    F=(305, 449),    G=(375, 270),   H=(534, 350),\n",
        "    I=(473, 506),    L=(165, 379),    M=(168, 339),   N=(406, 537),\n",
        "    O=(131, 571),    P=(320, 368),    R=(233, 410),   S=(207, 457),\n",
        "    T=( 94, 410),    U=(456, 350),    V=(509, 444),   Z=(108, 531))\n"
      ],
      "metadata": {
        "id": "moaqZEQcchCD"
      },
      "execution_count": null,
      "outputs": []
    },
    {
      "cell_type": "markdown",
      "source": [
        "Graph Problem"
      ],
      "metadata": {
        "id": "hO5YiwOccpL2"
      }
    },
    {
      "cell_type": "code",
      "source": [
        "class GraphProblem(Problem):\n",
        "    \"The problem of searching a graph from one node to another.\"\n",
        "    def __init__(self, initial, goal, graph):\n",
        "        Problem.__init__(self, initial, goal)\n",
        "        self.graph = graph\n",
        "\n",
        "    def successor(self, A):\n",
        "        \"Return a list of (action, result) pairs.\"\n",
        "        return [(B, B) for B in self.graph.get(A).keys()]\n",
        "\n",
        "    def path_cost(self, cost_so_far, A, action, B):\n",
        "        return cost_so_far + (self.graph.get(A,B) or infinity)\n",
        "\n",
        "    def h(self, node):\n",
        "        \"h function is straight-line distance from a node's state to goal.\"\n",
        "        locs = getattr(self.graph, 'locations', None)\n",
        "        if locs:\n",
        "            return int(distance(locs[node.state], locs[self.goal]))\n",
        "        else:\n",
        "            return infinity\n"
      ],
      "metadata": {
        "id": "rescTajPcsWm"
      },
      "execution_count": null,
      "outputs": []
    },
    {
      "cell_type": "markdown",
      "source": [
        "Utility Function"
      ],
      "metadata": {
        "id": "YLA0AzJxc1D-"
      }
    },
    {
      "cell_type": "code",
      "source": [
        "def pprint(path):\n",
        "  path.reverse()\n",
        "  for e in path:\n",
        "    print(f\"action: {e.action}, state: {e.state}, depth {e.depth}\")\n",
        "\n",
        "  #distance (path cost)\n",
        "  distance = goal.path_cost\n",
        "\n",
        "  #depth of goal node\n",
        "  goalNodeDepth = goal.depth\n",
        "\n",
        "  #tot nodes generated\n",
        "  totNodes = len(Node.allNodes)\n",
        "\n",
        "  print(\"\\nPath length (as distance):\", distance)\n",
        "  print(\"Depth of goal node:\", goalNodeDepth)\n",
        "  print(\"Total nodes generated:\", totNodes)"
      ],
      "metadata": {
        "id": "-m4vAzndc4r9"
      },
      "execution_count": null,
      "outputs": []
    },
    {
      "cell_type": "code",
      "source": [
        "#prob definition\n",
        "prob = GraphProblem(\"A\", \"B\", romania)"
      ],
      "metadata": {
        "id": "jZiCTCiEvdsY"
      },
      "execution_count": null,
      "outputs": []
    },
    {
      "cell_type": "code",
      "source": [
        "#depth first tree search\n",
        "Node.clear_all_nodes()\n",
        "\n",
        "while len(Node.allNodes) < 10:\n",
        "    goal = depth_first_tree_search(prob)\n",
        "\n",
        "if goal and goal.state == prob.goal:\n",
        "    pprint(goal.path())\n",
        "else:\n",
        "    print(\"No result found at depth of 10\")\n"
      ],
      "metadata": {
        "id": "e1FUpu4L3dH1"
      },
      "execution_count": null,
      "outputs": []
    },
    {
      "cell_type": "code",
      "source": [
        "#depth first graph search\n",
        "Node.clear_all_nodes()\n",
        "goal = depth_first_graph_search(prob)\n",
        "pprint(goal.path())"
      ],
      "metadata": {
        "id": "_pqIvGWP6oKJ"
      },
      "execution_count": null,
      "outputs": []
    },
    {
      "cell_type": "code",
      "source": [
        "#breadth first graph search\n",
        "Node.clear_all_nodes()\n",
        "goal = breadth_first_tree_search(prob)\n",
        "pprint(goal.path())"
      ],
      "metadata": {
        "id": "xkW4Sci9zzAw"
      },
      "execution_count": null,
      "outputs": []
    },
    {
      "cell_type": "code",
      "source": [
        "#breadth first graph search\n",
        "Node.clear_all_nodes()\n",
        "goal = breadth_first_graph_search(prob)\n",
        "pprint(goal.path())"
      ],
      "metadata": {
        "id": "MNqoUg0S39vY"
      },
      "execution_count": null,
      "outputs": []
    },
    {
      "cell_type": "code",
      "source": [
        "#iterative deepening\n",
        "Node.clear_all_nodes()\n",
        "goal = iterative_deepening_search(prob)\n",
        "pprint(goal.path())"
      ],
      "metadata": {
        "id": "XNd5BoMJ4DCA"
      },
      "execution_count": null,
      "outputs": []
    },
    {
      "cell_type": "code",
      "source": [
        "#best first graph* search\n",
        "Node.clear_all_nodes()\n",
        "goal = best_first_graph_search(prob)\n",
        "pprint(goal.path())"
      ],
      "metadata": {
        "id": "1KFvg81r_3ty"
      },
      "execution_count": null,
      "outputs": []
    },
    {
      "cell_type": "code",
      "source": [
        "#A* search\n",
        "Node.clear_all_nodes()\n",
        "goal = astar_search(prob)\n",
        "pprint(goal.path())"
      ],
      "metadata": {
        "id": "j7FAUYbk-ycy"
      },
      "execution_count": null,
      "outputs": []
    }
  ]
}